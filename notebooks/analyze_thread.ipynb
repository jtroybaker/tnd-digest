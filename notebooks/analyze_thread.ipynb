{
 "cells": [
  {
   "cell_type": "code",
   "execution_count": 1,
   "id": "dc38392d-d797-4828-a4b6-54f75e92b2af",
   "metadata": {},
   "outputs": [],
   "source": [
    "from bs4 import BeautifulSoup as bs\n",
    "import requests\n",
    "from tnd_digest.config import user, password"
   ]
  },
  {
   "cell_type": "code",
   "execution_count": 2,
   "id": "ec065482-928e-4ca9-aeba-028a9f108816",
   "metadata": {},
   "outputs": [],
   "source": [
    "def thread_dict(url, session):\n",
    "    page = session.get(url)\n",
    "    #TODO\n",
    "    \n",
    "def count_pages(soup):\n",
    "    \"\"\"\n",
    "    returns: str like 'meansonny, olympicdawg, quex and 3 others'\n",
    "    \"\"\"\n",
    "    pagenav = soup.find(attrs={'class':'pageNav-main'})\n",
    "    last_li = pagenav.find_all('li')[-1]\n",
    "    return int(last_li.get_text())\n",
    "\n",
    "def get_reacts(post_num, token):\n",
    "    url = f'https://talkndawgs.com/posts/{post_num}/reactions/'\n",
    "    params = {\n",
    "                \"_xfWithData\": \"1\",\n",
    "                \"_xfToken\": token,\n",
    "                \"_xfResponseType\": \"json\"\n",
    "    }\n",
    "    response = s.get(url,params=params)\n",
    "    \n",
    "    soup = bs(response.json()['html']['content'], 'html.parser')\n",
    "    \n",
    "    reacts = soup.find('h3').get_text()\n",
    "    \n",
    "    reacts_list = reacts.replace('\\n','')\\\n",
    "     .replace('\\t','')\\\n",
    "     .replace('(','')\\\n",
    "     .replace(')','')\\\n",
    "     .split(' ')\n",
    "\n",
    "    return int(reacts_list[1])"
   ]
  },
  {
   "cell_type": "code",
   "execution_count": 3,
   "id": "e9247784-7ae4-420b-8562-96cc9705f3fc",
   "metadata": {},
   "outputs": [],
   "source": [
    "url = 'https://talkndawgs.com/'\n",
    "login_route = 'login/login/'\n",
    "user_agent = 'Mozilla/5.0 (Windows NT 10.0; Win64; x64; rv:108.0) Gecko/20100101 Firefox/108.0'\n",
    "\n",
    "headers = {'User-Agent': user_agent, 'origin': url, 'referer': url + login_route}"
   ]
  },
  {
   "cell_type": "code",
   "execution_count": 4,
   "id": "eff09a82-cc04-4f7e-aa07-2e306a31e7f7",
   "metadata": {},
   "outputs": [],
   "source": [
    "s = requests.session()"
   ]
  },
  {
   "cell_type": "code",
   "execution_count": 5,
   "id": "60ee7bee-f69e-4d2f-bb89-084e2d0cd078",
   "metadata": {},
   "outputs": [],
   "source": [
    "page = s.get(url)"
   ]
  },
  {
   "cell_type": "code",
   "execution_count": 6,
   "id": "8e4bbce5-a2bf-4bfa-a295-0cf955ab2de1",
   "metadata": {},
   "outputs": [
    {
     "data": {
      "text/plain": [
       "<requests.sessions.Session at 0x1ee92381f60>"
      ]
     },
     "execution_count": 6,
     "metadata": {},
     "output_type": "execute_result"
    }
   ],
   "source": [
    "s"
   ]
  },
  {
   "cell_type": "code",
   "execution_count": 7,
   "id": "90f172cb-cce8-429b-bc0a-643bac4bb14d",
   "metadata": {},
   "outputs": [
    {
     "data": {
      "text/plain": [
       "<RequestsCookieJar[Cookie(version=0, name='xf_csrf', value='CTjeqbGgjoElAd3E', port=None, port_specified=False, domain='talkndawgs.com', domain_specified=False, domain_initial_dot=False, path='/', path_specified=True, secure=True, expires=None, discard=True, comment=None, comment_url=None, rest={}, rfc2109=False)]>"
      ]
     },
     "execution_count": 7,
     "metadata": {},
     "output_type": "execute_result"
    }
   ],
   "source": [
    "s.cookies"
   ]
  },
  {
   "cell_type": "code",
   "execution_count": 8,
   "id": "28cc0a73-c27d-488b-b747-a32b7b0262e8",
   "metadata": {},
   "outputs": [
    {
     "data": {
      "text/plain": [
       "'CTjeqbGgjoElAd3E'"
      ]
     },
     "execution_count": 8,
     "metadata": {},
     "output_type": "execute_result"
    }
   ],
   "source": [
    "cookie_csrf = s.cookies.get('xf_csrf')\n",
    "cookie_csrf"
   ]
  },
  {
   "cell_type": "code",
   "execution_count": 9,
   "id": "01f4c679-813e-41b5-95b8-931feccd2585",
   "metadata": {},
   "outputs": [
    {
     "name": "stdout",
     "output_type": "stream",
     "text": [
      "<input name=\"_xfToken\" type=\"hidden\" value=\"1672471598,d3c9710069cb6ac73cfb53b758270907\"/>\n"
     ]
    }
   ],
   "source": [
    "soup = bs(page.content, 'html.parser')\n",
    "token_element = soup.find(attrs={'name': '_xfToken'})\n",
    "print(token_element)\n",
    "token = token_element['value']"
   ]
  },
  {
   "cell_type": "code",
   "execution_count": 10,
   "id": "88d2d066-869c-4697-bfaf-9c44f4d7df20",
   "metadata": {},
   "outputs": [],
   "source": [
    "login_payload = {\n",
    "    'login': user,\n",
    "    'password': password,\n",
    "    '_xfToken': token,\n",
    "    '_xfRedirect': ''\n",
    "}"
   ]
  },
  {
   "cell_type": "code",
   "execution_count": 11,
   "id": "7bbffc7e-91a4-44d6-a4ec-83e5676be5cd",
   "metadata": {},
   "outputs": [],
   "source": [
    "login_req = s.post(url + login_route, headers=headers, data=login_payload)"
   ]
  },
  {
   "cell_type": "code",
   "execution_count": 12,
   "id": "a94d4e40-bbae-4f78-a671-04a376252b21",
   "metadata": {},
   "outputs": [
    {
     "name": "stdout",
     "output_type": "stream",
     "text": [
      "200\n"
     ]
    }
   ],
   "source": [
    "print(login_req.status_code)"
   ]
  },
  {
   "cell_type": "code",
   "execution_count": 13,
   "id": "287fc0e7-e15d-4035-a7a5-343b06ee6245",
   "metadata": {},
   "outputs": [
    {
     "data": {
      "text/plain": [
       "<RequestsCookieJar[]>"
      ]
     },
     "execution_count": 13,
     "metadata": {},
     "output_type": "execute_result"
    }
   ],
   "source": [
    "login_cookies = login_req.cookies\n",
    "login_cookies"
   ]
  },
  {
   "cell_type": "code",
   "execution_count": 14,
   "id": "4812f59f-04ca-47c9-862d-ceda462596aa",
   "metadata": {},
   "outputs": [],
   "source": [
    "# url = 'https://talkndawgs.com/threads/talk%E2%80%99n-osu-peach-bowl.6850/'\n",
    "url = 'https://talkndawgs.com/threads/the-coffee-shop.253/page-1335#post-266751'\n",
    "page = s.get(url)"
   ]
  },
  {
   "cell_type": "code",
   "execution_count": 15,
   "id": "3af50d30-098a-46a0-a4e2-e50a782553ea",
   "metadata": {},
   "outputs": [],
   "source": [
    "soup = bs(page.content, 'html.parser')"
   ]
  },
  {
   "cell_type": "code",
   "execution_count": 16,
   "id": "77856b9d-9b47-43fe-9d21-7120c8a955f0",
   "metadata": {},
   "outputs": [
    {
     "data": {
      "text/plain": [
       "1339"
      ]
     },
     "execution_count": 16,
     "metadata": {},
     "output_type": "execute_result"
    }
   ],
   "source": [
    "count_pages(soup)"
   ]
  },
  {
   "cell_type": "code",
   "execution_count": 17,
   "id": "d58d66e2-f07b-40da-9714-1b900ab281f5",
   "metadata": {
    "tags": []
   },
   "outputs": [],
   "source": [
    "# record = soup.find_all('article')[2]\n",
    "# get_reacts(record)"
   ]
  },
  {
   "cell_type": "code",
   "execution_count": 18,
   "id": "0087a908-50e5-43c5-8ad8-88cf27c2bbde",
   "metadata": {},
   "outputs": [
    {
     "data": {
      "text/plain": [
       "31"
      ]
     },
     "execution_count": 18,
     "metadata": {},
     "output_type": "execute_result"
    }
   ],
   "source": [
    "get_reacts(266751,token)"
   ]
  },
  {
   "cell_type": "code",
   "execution_count": null,
   "id": "732a15e4-ede0-4504-8cc6-6c6f301a8914",
   "metadata": {},
   "outputs": [],
   "source": []
  }
 ],
 "metadata": {
  "kernelspec": {
   "display_name": "Python 3 (ipykernel)",
   "language": "python",
   "name": "python3"
  },
  "language_info": {
   "codemirror_mode": {
    "name": "ipython",
    "version": 3
   },
   "file_extension": ".py",
   "mimetype": "text/x-python",
   "name": "python",
   "nbconvert_exporter": "python",
   "pygments_lexer": "ipython3",
   "version": "3.10.8"
  }
 },
 "nbformat": 4,
 "nbformat_minor": 5
}
